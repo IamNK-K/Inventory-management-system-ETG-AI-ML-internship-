{
 "cells": [
  {
   "cell_type": "markdown",
   "id": "74c83ae6",
   "metadata": {},
   "source": [
    "# Read record"
   ]
  },
  {
   "cell_type": "code",
   "execution_count": 49,
   "id": "5a75e700",
   "metadata": {},
   "outputs": [],
   "source": [
    "fd = open(\"record.json\",'r')\n",
    "r = fd.read()\n",
    "fd.close()\n",
    "\n",
    "import json\n",
    "record=json.loads(r)\n"
   ]
  },
  {
   "cell_type": "code",
   "execution_count": 50,
   "id": "dc014f29",
   "metadata": {},
   "outputs": [
    {
     "name": "stdout",
     "output_type": "stream",
     "text": [
      "2001 : {'name': 'dell', 'type': 'laptop', 'quantity': 46, 'price': 50000, 'Expiry date': 'No'}\n",
      "2002 : {'name': 'vivo', 'type': 'smartphone', 'quantity': 49, 'price': 15000, 'Expiry date': 'No'}\n",
      "2003 : {'name': 'HP', 'type': 'Computer', 'quantity': 33, 'price': 20000, 'Expiry date': 'No'}\n",
      "2004 : {'name': 'sony', 'type': 'speaker', 'quantity': 100, 'price': 699, 'Expiry date': 'No'}\n",
      "2005 : {'name': 'sony ', 'type': 'headset', 'quantity': 100, 'price': 399, 'Expiry date': 'No'}\n",
      "2006 : {'name': 'samsung', 'type': 'smartphone', 'quantity': 50, 'price': 12999, 'Expiry date': 'No'}\n",
      "2007 : {'name': 'Micromax', 'type': 'mobile', 'quantity': 50, 'price': 5999, 'Expiry date': 'No'}\n",
      "2008 : {'name': 'Nokia', 'type': 'mobile', 'quantity': 50, 'price': 3999, 'Expiry date': 'No'}\n",
      "2009 : {'name': 'JBL', 'type': 'headset', 'quantity': 60, 'price': 699, 'Expiry date': 'No'}\n",
      "2010 : {'name': 'redmi', 'type': 'smartphone', 'quantity': 10000, 'price': 49999, 'Expiry date': 'No'}\n",
      "2011 : {'name': 'realme', 'type': 'smartphone', 'quantity': 69, 'price': 12499, 'Expiry date': 'No'}\n",
      "2012 : {'name': 'zebronics', 'type': 'speaker', 'quantity': 75, 'price': 1009, 'Expiry date': 'No'}\n",
      "2013 : {'name': 'acer', 'type': 'laptop', 'quantity': 50, 'price': 60000, 'Expiry date': 'No'}\n",
      "2014 : {'name': 'lenovo', 'type': 'laptop', 'quantity': 50, 'price': 35000, 'Expiry date': 'No'}\n"
     ]
    }
   ],
   "source": [
    "for i in record.keys():\n",
    "    print( i ,\":\" , record[i])"
   ]
  },
  {
   "cell_type": "markdown",
   "id": "4c0cbaf3",
   "metadata": {},
   "source": [
    "# Adding record"
   ]
  },
  {
   "cell_type": "code",
   "execution_count": null,
   "id": "3ea6fa59",
   "metadata": {},
   "outputs": [],
   "source": [
    "\n",
    "\n",
    "prod_id=str(input(\"Enter product id :\"))\n",
    "prod_name=str(input(\"Enter product name :\"))\n",
    "prod_type=str(input(\"Enter product type :\"))\n",
    "prod_quan=int(input(\"Enter product quantity :\"))\n",
    "prod_pr=int(input(\"Enter product price :\"))\n",
    "prod_ex=str(input(\"Enter product expiry date :\"))\n",
    "\n",
    "new = {prod_id : { 'name' : prod_name , 'type' : prod_type ,'quantity' : prod_quan  , 'price' : prod_pr , 'Expiry date' : prod_ex} }\n",
    "\n",
    "record.update(new)"
   ]
  },
  {
   "cell_type": "code",
   "execution_count": 70,
   "id": "55b08669",
   "metadata": {},
   "outputs": [
    {
     "name": "stdout",
     "output_type": "stream",
     "text": [
      "2001 : {'name': 'dell', 'type': 'laptop', 'quantity': 46, 'price': 50000, 'Expiry date': 'No'}\n",
      "2002 : {'name': 'vivo', 'type': 'smartphone', 'quantity': 49, 'price': 15000, 'Expiry date': 'No'}\n",
      "2003 : {'name': 'HP', 'type': 'Computer', 'quantity': 33, 'price': 20000, 'Expiry date': 'No'}\n",
      "2004 : {'name': 'sony', 'type': 'speaker', 'quantity': 100, 'price': 699, 'Expiry date': 'No'}\n",
      "2005 : {'name': 'sony ', 'type': 'headset', 'quantity': 100, 'price': 399, 'Expiry date': 'No'}\n",
      "2006 : {'name': 'samsung', 'type': 'smartphone', 'quantity': 50, 'price': 12999, 'Expiry date': 'No'}\n",
      "2007 : {'name': 'Micromax', 'type': 'mobile', 'quantity': 50, 'price': 5999, 'Expiry date': 'No'}\n",
      "2008 : {'name': 'Nokia', 'type': 'mobile', 'quantity': 50, 'price': 3999, 'Expiry date': 'No'}\n",
      "2009 : {'name': 'JBL', 'type': 'headset', 'quantity': 60, 'price': 699, 'Expiry date': 'No'}\n",
      "2010 : {'name': 'redmi', 'type': 'smartphone', 'quantity': 10000, 'price': 49999, 'Expiry date': 'No'}\n",
      "2011 : {'name': 'realme', 'type': 'smartphone', 'quantity': 69, 'price': 12499, 'Expiry date': 'No'}\n",
      "2012 : {'name': 'zebronics', 'type': 'speaker', 'quantity': 75, 'price': 1009, 'Expiry date': 'No'}\n",
      "2013 : {'name': 'acer', 'type': 'laptop', 'quantity': 50, 'price': 60000, 'Expiry date': 'No'}\n",
      "2014 : {'name': 'lenovo', 'type': 'laptop', 'quantity': 50, 'price': 35000, 'Expiry date': 'No'}\n",
      "2015 : {'name': 'logitech', 'type': 'mouse', 'quantity': 150, 'price': 299, 'Expiry date': 'No'}\n",
      "2016 : {'name': 'logitech', 'type': 'camera', 'quantity': 100, 'price': 5999, 'Expiry date': 'No'}\n",
      "2017 : {'name': 'power', 'type': 'charger', 'quantity': 50, 'price': 599, 'Expiry date': 'No'}\n",
      "2018 : {'name': 'sandisk', 'type': 'pendrive(8 GB)', 'quantity': 100, 'price': 299, 'Expiry date': 'No'}\n",
      "2019 : {'name': 'sandisk', 'type': 'pendrive(16 GB)', 'quantity': 100, 'price': 399, 'Expiry date': 'No'}\n",
      "2020 : {'name': 'sandisk', 'type': 'memory card( GB)', 'quantity': 50, 'price': 200, 'Expiry date': 'No'}\n"
     ]
    }
   ],
   "source": [
    "for i in record.keys():\n",
    "    print( i ,\":\" , record[i])"
   ]
  },
  {
   "cell_type": "markdown",
   "id": "e6ca061c",
   "metadata": {},
   "source": [
    "# Updating record"
   ]
  },
  {
   "cell_type": "code",
   "execution_count": 71,
   "id": "35b09a7c",
   "metadata": {},
   "outputs": [],
   "source": [
    "js=json.dumps(record)\n",
    "fd = open(\"record.json\",\"w\")\n",
    "\n",
    "fd.write(js)\n",
    "\n",
    "fd.close()"
   ]
  },
  {
   "cell_type": "markdown",
   "id": "12049258",
   "metadata": {},
   "source": [
    "# Displaying record"
   ]
  },
  {
   "cell_type": "code",
   "execution_count": 55,
   "id": "1b6486c6",
   "metadata": {},
   "outputs": [
    {
     "name": "stdout",
     "output_type": "stream",
     "text": [
      "2001 : {'name': 'dell', 'type': 'laptop', 'quantity': 46, 'price': 50000, 'Expiry date': 'No'}\n",
      "2002 : {'name': 'vivo', 'type': 'smartphone', 'quantity': 49, 'price': 15000, 'Expiry date': 'No'}\n",
      "2003 : {'name': 'HP', 'type': 'Computer', 'quantity': 33, 'price': 20000, 'Expiry date': 'No'}\n",
      "2004 : {'name': 'sony', 'type': 'speaker', 'quantity': 100, 'price': 699, 'Expiry date': 'No'}\n",
      "2005 : {'name': 'sony ', 'type': 'headset', 'quantity': 100, 'price': 399, 'Expiry date': 'No'}\n",
      "2006 : {'name': 'samsung', 'type': 'smartphone', 'quantity': 50, 'price': 12999, 'Expiry date': 'No'}\n",
      "2007 : {'name': 'Micromax', 'type': 'mobile', 'quantity': 50, 'price': 5999, 'Expiry date': 'No'}\n",
      "2008 : {'name': 'Nokia', 'type': 'mobile', 'quantity': 50, 'price': 3999, 'Expiry date': 'No'}\n",
      "2009 : {'name': 'JBL', 'type': 'headset', 'quantity': 60, 'price': 699, 'Expiry date': 'No'}\n",
      "2010 : {'name': 'redmi', 'type': 'smartphone', 'quantity': 10000, 'price': 49999, 'Expiry date': 'No'}\n",
      "2011 : {'name': 'realme', 'type': 'smartphone', 'quantity': 69, 'price': 12499, 'Expiry date': 'No'}\n",
      "2012 : {'name': 'zebronics', 'type': 'speaker', 'quantity': 75, 'price': 1009, 'Expiry date': 'No'}\n",
      "2013 : {'name': 'acer', 'type': 'laptop', 'quantity': 50, 'price': 60000, 'Expiry date': 'No'}\n",
      "2014 : {'name': 'lenovo', 'type': 'laptop', 'quantity': 50, 'price': 35000, 'Expiry date': 'No'}\n",
      "2015 : {'name': 'logitech', 'type': 'mouse', 'quantity': 150, 'price': 299, 'Expiry date': 'No'}\n"
     ]
    }
   ],
   "source": [
    "fd = open(\"record.json\",'r')\n",
    "r = fd.read()\n",
    "fd.close()\n",
    "\n",
    "import json\n",
    "for i in json.loads(r):\n",
    "    print(i, \":\" , json.loads(r)[i])"
   ]
  }
 ],
 "metadata": {
  "kernelspec": {
   "display_name": "Python 3",
   "language": "python",
   "name": "python3"
  },
  "language_info": {
   "codemirror_mode": {
    "name": "ipython",
    "version": 3
   },
   "file_extension": ".py",
   "mimetype": "text/x-python",
   "name": "python",
   "nbconvert_exporter": "python",
   "pygments_lexer": "ipython3",
   "version": "3.8.8"
  }
 },
 "nbformat": 4,
 "nbformat_minor": 5
}
