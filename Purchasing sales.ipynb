{
 "cells": [
  {
   "cell_type": "markdown",
   "id": "66e4a255",
   "metadata": {},
   "source": [
    "# Displaying record"
   ]
  },
  {
   "cell_type": "code",
   "execution_count": 173,
   "id": "3055326d",
   "metadata": {},
   "outputs": [
    {
     "name": "stdout",
     "output_type": "stream",
     "text": [
      "2001 : {'name': 'dell', 'type': 'laptop', 'quantity': 42, 'price': 50000, 'Expiry date': 'No'}\n",
      "2002 : {'name': 'vivo', 'type': 'smartphone', 'quantity': 49, 'price': 15000, 'Expiry date': 'No'}\n",
      "2003 : {'name': 'HP', 'type': 'Computer', 'quantity': 31, 'price': 20000, 'Expiry date': 'No'}\n",
      "2004 : {'name': 'sony', 'type': 'speaker', 'quantity': 100, 'price': 699, 'Expiry date': 'No'}\n",
      "2005 : {'name': 'sony ', 'type': 'headset', 'quantity': 96, 'price': 399, 'Expiry date': 'No'}\n",
      "2006 : {'name': 'samsung', 'type': 'smartphone', 'quantity': 50, 'price': 12999, 'Expiry date': 'No'}\n",
      "2007 : {'name': 'Micromax', 'type': 'mobile', 'quantity': 48, 'price': 5999, 'Expiry date': 'No'}\n",
      "2008 : {'name': 'Nokia', 'type': 'mobile', 'quantity': 50, 'price': 3999, 'Expiry date': 'No'}\n",
      "2009 : {'name': 'JBL', 'type': 'headset', 'quantity': 59, 'price': 699, 'Expiry date': 'No'}\n",
      "2010 : {'name': 'redmi', 'type': 'smartphone', 'quantity': 10000, 'price': 49999, 'Expiry date': 'No'}\n",
      "2011 : {'name': 'realme', 'type': 'smartphone', 'quantity': 68, 'price': 12499, 'Expiry date': 'No'}\n",
      "2012 : {'name': 'zebronics', 'type': 'speaker', 'quantity': 75, 'price': 1009, 'Expiry date': 'No'}\n",
      "2013 : {'name': 'acer', 'type': 'laptop', 'quantity': 47, 'price': 60000, 'Expiry date': 'No'}\n",
      "2014 : {'name': 'lenovo', 'type': 'laptop', 'quantity': 50, 'price': 35000, 'Expiry date': 'No'}\n",
      "2015 : {'name': 'logitech', 'type': 'mouse', 'quantity': 149, 'price': 299, 'Expiry date': 'No'}\n",
      "2016 : {'name': 'logitech', 'type': 'camera', 'quantity': 100, 'price': 5999, 'Expiry date': 'No'}\n",
      "2017 : {'name': 'power', 'type': 'charger', 'quantity': 49, 'price': 599, 'Expiry date': 'No'}\n",
      "2018 : {'name': 'sandisk', 'type': 'pendrive(8 GB)', 'quantity': 100, 'price': 299, 'Expiry date': 'No'}\n",
      "2019 : {'name': 'sandisk', 'type': 'pendrive(16 GB)', 'quantity': 95, 'price': 399, 'Expiry date': 'No'}\n",
      "2020 : {'name': 'sandisk', 'type': 'memory card( GB)', 'quantity': 50, 'price': 200, 'Expiry date': 'No'}\n"
     ]
    }
   ],
   "source": [
    "fd = open(\"record.json\",'r')\n",
    "r = fd.read()\n",
    "fd.close()\n",
    "\n",
    "record=json.loads(r)\n",
    "for i in record.keys():\n",
    "    print(i ,':' ,record[i])"
   ]
  },
  {
   "cell_type": "markdown",
   "id": "1c071d7d",
   "metadata": {},
   "source": [
    "# Purchasing..."
   ]
  },
  {
   "cell_type": "code",
   "execution_count": 165,
   "id": "5fdfe125",
   "metadata": {},
   "outputs": [
    {
     "name": "stdout",
     "output_type": "stream",
     "text": [
      "Enter product id : 2019\n",
      "Enter product quantity : 1\n",
      "----------------------------------------\n",
      "Product name : \t sandisk\n",
      "Product type : \t\n",
      "pendrive(16 GB)\n",
      "Total price : \t\n",
      "399 * 1 = 399\n",
      "----------------------------------------\n",
      "You desreve We Serve\n"
     ]
    }
   ],
   "source": [
    "p_id = str(input(\"Enter product id : \"))\n",
    "p_quan = int(input(\"Enter product quantity : \"))\n",
    "\n",
    "print(\"----------------------------------------\")\n",
    "print(\"Product name : \\t\",record[p_id]['name'])\n",
    "print(\"Product type : \\t\")\n",
    "print(record[p_id]['type'])\n",
    "print(\"Total price : \\t\")\n",
    "cost=record[p_id]['price'] * p_quan\n",
    "print(record[p_id]['price'] , \"*\" , p_quan, \"=\" ,cost )\n",
    "print(\"----------------------------------------\")\n",
    "print(\"You desreve We Serve\")"
   ]
  },
  {
   "cell_type": "markdown",
   "id": "3633ee0a",
   "metadata": {},
   "source": [
    "# Sales record"
   ]
  },
  {
   "cell_type": "code",
   "execution_count": 166,
   "id": "01f3e549",
   "metadata": {},
   "outputs": [
    {
     "data": {
      "text/plain": [
       "{'1': {'product id': '2001', 'Quantity': 4, 'sales': 200000},\n",
       " '2': {'product id': '2003', 'Quantity': 2, 'sales': 40000},\n",
       " '3': {'product id': '2005', 'Quantity': 4, 'sales': 1596},\n",
       " '4': {'product id': '2007', 'Quantity': 2, 'sales': 11998},\n",
       " '5': {'product id': '2009', 'Quantity': 1, 'sales': 699},\n",
       " '6': {'product id': '2011', 'Quantity': 1, 'sales': 12499},\n",
       " '7': {'product id': '2013', 'Quantity': 3, 'sales': 180000},\n",
       " '8': {'product id': '2015', 'Quantity': 1, 'sales': 299},\n",
       " '9': {'product id': '2017', 'Quantity': 1, 'sales': 599}}"
      ]
     },
     "execution_count": 166,
     "metadata": {},
     "output_type": "execute_result"
    }
   ],
   "source": [
    "fd = open(\"sales.json\",'r')\n",
    "r = fd.read()\n",
    "fd.close()\n",
    "\n",
    "import json\n",
    "js =json.loads(r)\n",
    "sale = js\n",
    "sale"
   ]
  },
  {
   "cell_type": "code",
   "execution_count": 167,
   "id": "3e6b46f6",
   "metadata": {},
   "outputs": [],
   "source": [
    "sales ={str(len(js) + 1):{'product id': p_id , 'Quantity' : p_quan , 'sales' : cost}}\n",
    "sale.update(sales)"
   ]
  },
  {
   "cell_type": "code",
   "execution_count": 168,
   "id": "473cd2b3",
   "metadata": {},
   "outputs": [],
   "source": [
    "import json\n",
    "js=json.dumps(sale)\n",
    "fd = open(\"sales.json\",\"w\")\n",
    "\n",
    "fd.write(js)\n",
    "\n",
    "fd.close()"
   ]
  },
  {
   "cell_type": "markdown",
   "id": "f8d92187",
   "metadata": {},
   "source": [
    "# Displaying sales"
   ]
  },
  {
   "cell_type": "code",
   "execution_count": 169,
   "id": "406273ce",
   "metadata": {},
   "outputs": [
    {
     "name": "stdout",
     "output_type": "stream",
     "text": [
      "1 : {'product id': '2001', 'Quantity': 4, 'sales': 200000}\n",
      "2 : {'product id': '2003', 'Quantity': 2, 'sales': 40000}\n",
      "3 : {'product id': '2005', 'Quantity': 4, 'sales': 1596}\n",
      "4 : {'product id': '2007', 'Quantity': 2, 'sales': 11998}\n",
      "5 : {'product id': '2009', 'Quantity': 1, 'sales': 699}\n",
      "6 : {'product id': '2011', 'Quantity': 1, 'sales': 12499}\n",
      "7 : {'product id': '2013', 'Quantity': 3, 'sales': 180000}\n",
      "8 : {'product id': '2015', 'Quantity': 1, 'sales': 299}\n",
      "9 : {'product id': '2017', 'Quantity': 1, 'sales': 599}\n",
      "10 : {'product id': '2019', 'Quantity': 1, 'sales': 399}\n"
     ]
    }
   ],
   "source": [
    "fd = open(\"sales.json\",'r')\n",
    "r = fd.read()\n",
    "fd.close()\n",
    "\n",
    "import json\n",
    "r = json.loads(r)\n",
    "\n",
    "for i in r.keys():\n",
    "    print( i ,':' , r[i])"
   ]
  },
  {
   "cell_type": "markdown",
   "id": "840d54be",
   "metadata": {},
   "source": [
    "# Updating record after sales"
   ]
  },
  {
   "cell_type": "code",
   "execution_count": 170,
   "id": "225758af",
   "metadata": {},
   "outputs": [],
   "source": [
    "record[p_id]['quantity'] = record[p_id]['quantity'] - p_quan"
   ]
  },
  {
   "cell_type": "code",
   "execution_count": 171,
   "id": "d44a13c7",
   "metadata": {},
   "outputs": [],
   "source": [
    "js=json.dumps(record)\n",
    "fd = open(\"record.json\",\"w\")\n",
    "\n",
    "fd.write(js)\n",
    "\n",
    "fd.close()"
   ]
  },
  {
   "cell_type": "code",
   "execution_count": 172,
   "id": "66d052a6",
   "metadata": {},
   "outputs": [
    {
     "name": "stdout",
     "output_type": "stream",
     "text": [
      "2001 : {'name': 'dell', 'type': 'laptop', 'quantity': 42, 'price': 50000, 'Expiry date': 'No'}\n",
      "2002 : {'name': 'vivo', 'type': 'smartphone', 'quantity': 49, 'price': 15000, 'Expiry date': 'No'}\n",
      "2003 : {'name': 'HP', 'type': 'Computer', 'quantity': 31, 'price': 20000, 'Expiry date': 'No'}\n",
      "2004 : {'name': 'sony', 'type': 'speaker', 'quantity': 100, 'price': 699, 'Expiry date': 'No'}\n",
      "2005 : {'name': 'sony ', 'type': 'headset', 'quantity': 96, 'price': 399, 'Expiry date': 'No'}\n",
      "2006 : {'name': 'samsung', 'type': 'smartphone', 'quantity': 50, 'price': 12999, 'Expiry date': 'No'}\n",
      "2007 : {'name': 'Micromax', 'type': 'mobile', 'quantity': 48, 'price': 5999, 'Expiry date': 'No'}\n",
      "2008 : {'name': 'Nokia', 'type': 'mobile', 'quantity': 50, 'price': 3999, 'Expiry date': 'No'}\n",
      "2009 : {'name': 'JBL', 'type': 'headset', 'quantity': 59, 'price': 699, 'Expiry date': 'No'}\n",
      "2010 : {'name': 'redmi', 'type': 'smartphone', 'quantity': 10000, 'price': 49999, 'Expiry date': 'No'}\n",
      "2011 : {'name': 'realme', 'type': 'smartphone', 'quantity': 68, 'price': 12499, 'Expiry date': 'No'}\n",
      "2012 : {'name': 'zebronics', 'type': 'speaker', 'quantity': 75, 'price': 1009, 'Expiry date': 'No'}\n",
      "2013 : {'name': 'acer', 'type': 'laptop', 'quantity': 47, 'price': 60000, 'Expiry date': 'No'}\n",
      "2014 : {'name': 'lenovo', 'type': 'laptop', 'quantity': 50, 'price': 35000, 'Expiry date': 'No'}\n",
      "2015 : {'name': 'logitech', 'type': 'mouse', 'quantity': 149, 'price': 299, 'Expiry date': 'No'}\n",
      "2016 : {'name': 'logitech', 'type': 'camera', 'quantity': 100, 'price': 5999, 'Expiry date': 'No'}\n",
      "2017 : {'name': 'power', 'type': 'charger', 'quantity': 49, 'price': 599, 'Expiry date': 'No'}\n",
      "2018 : {'name': 'sandisk', 'type': 'pendrive(8 GB)', 'quantity': 100, 'price': 299, 'Expiry date': 'No'}\n",
      "2019 : {'name': 'sandisk', 'type': 'pendrive(16 GB)', 'quantity': 95, 'price': 399, 'Expiry date': 'No'}\n",
      "2020 : {'name': 'sandisk', 'type': 'memory card( GB)', 'quantity': 50, 'price': 200, 'Expiry date': 'No'}\n"
     ]
    }
   ],
   "source": [
    "for i in record.keys():\n",
    "    print( i ,\":\" , record[i])"
   ]
  }
 ],
 "metadata": {
  "kernelspec": {
   "display_name": "Python 3",
   "language": "python",
   "name": "python3"
  },
  "language_info": {
   "codemirror_mode": {
    "name": "ipython",
    "version": 3
   },
   "file_extension": ".py",
   "mimetype": "text/x-python",
   "name": "python",
   "nbconvert_exporter": "python",
   "pygments_lexer": "ipython3",
   "version": "3.8.8"
  }
 },
 "nbformat": 4,
 "nbformat_minor": 5
}
